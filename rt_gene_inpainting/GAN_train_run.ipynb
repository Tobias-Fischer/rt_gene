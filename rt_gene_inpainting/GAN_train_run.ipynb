{
 "cells": [
  {
   "cell_type": "code",
   "execution_count": null,
   "metadata": {},
   "outputs": [],
   "source": [
    "from GAN_train import GAN_train\n",
    "from my_utils import ElapsedTimer\n",
    "\n",
    "import tensorflow as tf\n",
    "\n",
    "config = tf.compat.v1.ConfigProto()\n",
    "config.gpu_options.visible_device_list = \"0\"\n",
    "# config.gpu_options.allow_growth = True\n",
    "tf.compat.v1.keras.backend.set_session(tf.compat.v1.Session(config=config))\n",
    "\n",
    "if __name__ == '__main__':\n",
    "    dataset_folder_path = '/recordings_hdd/'\n",
    "    subject = 's000'\n",
    "    gan_train = GAN_train(dataset_folder_path, subject)\n",
    "\n",
    "    timer = ElapsedTimer()\n",
    "    gan_train.train(num_epoch=100, batch_size=96, save_interval=1)\n",
    "    timer.elapsed_time()"
   ]
  },
  {
   "cell_type": "code",
   "execution_count": null,
   "metadata": {},
   "outputs": [],
   "source": []
  }
 ],
 "metadata": {
  "kernelspec": {
   "display_name": "Python 2",
   "language": "python",
   "name": "python2"
  },
  "language_info": {
   "codemirror_mode": {
    "name": "ipython",
    "version": 2
   },
   "file_extension": ".py",
   "mimetype": "text/x-python",
   "name": "python",
   "nbconvert_exporter": "python",
   "pygments_lexer": "ipython2",
   "version": "2.7.15+"
  }
 },
 "nbformat": 4,
 "nbformat_minor": 2
}
